{
 "cells": [
  {
   "cell_type": "code",
   "execution_count": 10,
   "id": "5c3d99f8",
   "metadata": {},
   "outputs": [],
   "source": [
    "subscription_id = '89312da1-322b-42b9-967a-7f1ea1f70b64'\n",
    "resource_group = 'AzureQuantum'\n",
    "workspace_name = 'Ruba'\n",
    "location = 'Japan West'"
   ]
  },
  {
   "cell_type": "code",
   "execution_count": 11,
   "id": "3217fbaf",
   "metadata": {},
   "outputs": [
    {
     "data": {
      "application/x.qsharp-config": "{\"targetProfile\":\"base\",\"languageFeatures\":null,\"manifest\":null}",
      "text/plain": [
       "Q# initialized with configuration: {'targetProfile': 'base', 'languageFeatures': None, 'manifest': None}"
      ]
     },
     "execution_count": 11,
     "metadata": {},
     "output_type": "execute_result"
    }
   ],
   "source": [
    "import qsharp\n",
    "\n",
    "qsharp.init(target_profile=qsharp.TargetProfile.Base)"
   ]
  },
  {
   "cell_type": "code",
   "execution_count": 17,
   "id": "321d31ff",
   "metadata": {},
   "outputs": [],
   "source": [
    "with open(\"grovers.qs\", \"r\", encoding=\"utf-8\") as f:\n",
    "    contents = f.read()\n",
    "qsharp.eval(contents)"
   ]
  },
  {
   "cell_type": "code",
   "execution_count": 24,
   "id": "bd1230cb",
   "metadata": {},
   "outputs": [],
   "source": [
    "import azure.quantum\n",
    "\n",
    "workspace = azure.quantum.Workspace(\n",
    "    subscription_id=subscription_id,\n",
    "    resource_group=resource_group,\n",
    "    name=workspace_name,\n",
    "    location=location,\n",
    ")\n",
    "\n",
    "operation = qsharp.compile(\"Grovers.RunProgram()\")\n",
    "\n",
    "target = workspace.get_targets(\"quantinuum.sim.h1-1e\")\n",
    "job = target.submit(operation, \"grover's\", shots=10)\n"
   ]
  }
 ],
 "metadata": {
  "kernelspec": {
   "display_name": "mqit_kernel",
   "language": "python",
   "name": "mqit_kernel"
  },
  "language_info": {
   "codemirror_mode": {
    "name": "ipython",
    "version": 3
   },
   "file_extension": ".py",
   "mimetype": "text/x-python",
   "name": "python",
   "nbconvert_exporter": "python",
   "pygments_lexer": "ipython3",
   "version": "3.9.5"
  }
 },
 "nbformat": 4,
 "nbformat_minor": 5
}
