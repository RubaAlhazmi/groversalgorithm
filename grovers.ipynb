{
 "cells": [
  {
   "cell_type": "markdown",
   "id": "6133aa0d",
   "metadata": {},
   "source": [
    "# PHY5001 Assessment 2\n",
    "##  Grover's algorithm \n",
    "\n",
    "This is the Jupyter Notebook which accompanies the pdf guide for Assignment 2, which focuses on Grover's Algorithm. Be advised that you should read the pdf as well, as there are questions which you will need to answer.\n",
    "\n",
    "### Table of Contents\n",
    "This hyperlinked table of contents may help reduce how much scrolling around you need to do to find the appropriate cells\n",
    "\n",
    "- [Task 2: Selector](#Task2_cell)\n",
    "    - [(a) GateSwitch](#Task2a_cell)\n",
    "    - [(b) SelectorSix](#Task2b_cell)\n",
    "\n",
    "    \n",
    "- [Task 3: Amplifier](#Task3_cell)\n",
    "\n",
    "\n",
    "- [Task 4: Putting together Grover's algorithm](#Task4_cell)\n",
    "\n",
    "\n",
    "- [Task 5: Comparison of classical and quantum search](#Task5_cell)\n",
    "    - [(a) RandomiseSix](#Task5a_cell)\n",
    "    - [(b) Plotting comparison](#Task5Plot_cell)\n",
    "    \n",
    "    \n",
    "- [Testing Functions](#Testing)\n",
    "    - [Task 2 Testing](#Task2T_cell)\n",
    "    - [Task 3 Testing](#Task3T_cell)\n",
    "    - [Task 4 Testing](#Task4T_cell)\n",
    "    - [Task 5 Testing](#Task5T_cell)"
   ]
  },
  {
   "cell_type": "markdown",
   "id": "c63b2b9b",
   "metadata": {},
   "source": [
    "## Housekeeping\n",
    "The cells below will import the appropriate packages you need for this assignment, assuming they are installed, and apply particular configuration settings for `DumpMachine`. You will need to run these cells each time you open this file to start work, as without them your functions below will not run as intended. "
   ]
  },
  {
   "cell_type": "code",
   "execution_count": 19,
   "id": "5c3d99f8",
   "metadata": {},
   "outputs": [],
   "source": [
    "import qsharp\n",
    "import numpy as np\n",
    "import matplotlib.pyplot as plt"
   ]
  },
  {
   "cell_type": "code",
   "execution_count": 20,
   "id": "3217fbaf",
   "metadata": {
    "vscode": {
     "languageId": "qsharp"
    }
   },
   "outputs": [],
   "source": [
    "%%qsharp\n",
    "open Microsoft.Quantum.Diagnostics;"
   ]
  },
  {
   "cell_type": "code",
   "execution_count": 24,
   "id": "b37eb729",
   "metadata": {},
   "outputs": [],
   "source": [
    "%config dump.basisStateLabelingConvention=\"BitString\" \n",
    "%config dump.phaseDisplayStyle=\"NumberOnly\""
   ]
  },
  {
   "cell_type": "markdown",
   "id": "d3c8003e",
   "metadata": {},
   "source": [
    "## Task 2: Selector\n",
    "\n",
    "<a id='Task2_cell'></a>\n",
    "\n",
    "In this task, you will write code to set up the **Selector** component of Grover's algorithm. You will need to write two functions to build this Selector:\n",
    " - A function **GateSwitch** which applies Pauli-X gates to qubits in a 6 qubit array, using a Boolean array input to configure which qubits will be modified by the Pauli-X gates\n",
    " - A function **SelectorSix** which takes a 6 qubit array input and:\n",
    "   - applies GateSwitch\n",
    "   - applies a controlled-Z gate to the entire array, with the 6th qubit in the array being the target\n",
    "   - applies GateSwitch again\n"
   ]
  },
  {
   "cell_type": "markdown",
   "id": "53aec642",
   "metadata": {},
   "source": [
    "<a id='Task2a_cell'></a>\n",
    "In the cell below, write your code for **GateSwitch**.\n",
    "\n",
    "*Hint: You will likely need to include a `for` loop and an `if` condition to make this work.*"
   ]
  },
  {
   "cell_type": "code",
   "execution_count": null,
   "id": "75aaf72a",
   "metadata": {
    "vscode": {
     "languageId": "qsharp"
    }
   },
   "outputs": [],
   "source": [
    "%%qsharp\n",
    "operation GateSwitch(target: Qubit[], pattern: Bool[]) : Unit {\n",
    "    mutable i = 0; \n",
    "    for q in target {\n",
    "        if pattern[i] {\n",
    "            X(q); \n",
    "        }\n",
    "        i += 1; \n",
    "    }    \n",
    "}"
   ]
  },
  {
   "cell_type": "markdown",
   "id": "241df008",
   "metadata": {},
   "source": [
    "<a id='Task2b_cell'></a>\n",
    "In the cell below, write your code for **SelectorSix**.\n",
    "\n",
    "*Hint: Remember to use indices to indicate which qubit in the array you are referring to.*"
   ]
  },
  {
   "cell_type": "code",
   "execution_count": null,
   "id": "1df183b7",
   "metadata": {
    "vscode": {
     "languageId": "qsharp"
    }
   },
   "outputs": [],
   "source": [
    "%%qsharp\n",
    "operation SelectorSix(target: Qubit[], pattern: Bool[]) : Unit {\n",
    "    GateSwitch(target, pattern); \n",
    "    Controlled Z(target[0..4],target[5]); \n",
    "    GateSwitch(target, pattern); \n",
    "}"
   ]
  },
  {
   "cell_type": "markdown",
   "id": "1ee94290",
   "metadata": {},
   "source": [
    "## Task 3: Amplifier\n",
    "\n",
    "<a id='Task3_cell'></a>\n",
    "\n",
    "In this task, you will write code to set up the **Amplifier** component of Grover's algorithm. You will need to write one function to build this Amplifier:\n",
    " - A function **AmplifySix** which applies which applies the appropriate gates to a 6 qubit array, with the target of the controlled-Z gate being the 6th qubit in the array.\n",
    " \n",
    " \n",
    "In the cell below, write your code for **AmplifySix**\n",
    "\n",
    "*Hint: Remember to use indices to indicate which qubit in the array you are referring to. In Workshops you have seen the tools needed for at least 3 different approaches to writing AmplifySix - you may find it useful to use two `for` loops for part of this, but do not have to use any*"
   ]
  },
  {
   "cell_type": "code",
   "execution_count": null,
   "id": "3f0b6be1",
   "metadata": {
    "vscode": {
     "languageId": "qsharp"
    }
   },
   "outputs": [],
   "source": [
    "%%qsharp\n",
    "operation AmplifySix(target: Qubit[]) : Unit {\n",
    "    ApplyToEach(H, target); \n",
    "    ApplyToEach(X, target); \n",
    "    Controlled Z(target[0..4],target[5]);\n",
    "    ApplyToEach(X, target); \n",
    "    ApplyToEach(H, target); \n",
    "}"
   ]
  },
  {
   "cell_type": "markdown",
   "id": "83910570",
   "metadata": {},
   "source": [
    "<a id='Task4_cell'></a>\n",
    "## Task 4: Putting together Grover's algorithm\n",
    "\n",
    "In this task, you will write:\n",
    "- A function **SixQGroverIteration** which will apply SelectorSix and AmplifySix as required for a single iteration of Grover's algorithm\n",
    "- A function **SixQGrovers** which will apply SixQGroverIteration multiple times in a row, as determined by an input `repeats`"
   ]
  },
  {
   "cell_type": "markdown",
   "id": "2c97b248",
   "metadata": {},
   "source": [
    "<a id='Task4a_cell'></a>\n",
    "In the cell below, write your code for **SixQGroverIteration**."
   ]
  },
  {
   "cell_type": "code",
   "execution_count": null,
   "id": "75cc4647",
   "metadata": {
    "vscode": {
     "languageId": "qsharp"
    }
   },
   "outputs": [],
   "source": [
    "%%qsharp\n",
    "operation SixQGroverIteration(target: Qubit[], pattern: Bool[]) : Unit {\n",
    "    SelectorSix(target, pattern); \n",
    "    AmplifySix(target); \n",
    "}"
   ]
  },
  {
   "cell_type": "markdown",
   "id": "9ae49359",
   "metadata": {},
   "source": [
    "In the cell below, write your code for **SixQGrovers**\n",
    "\n",
    "*Hint: One way to approach this is to write a `for` loop which will apply **SixQGroverIteration** on each repeat*"
   ]
  },
  {
   "cell_type": "code",
   "execution_count": null,
   "id": "8281d097",
   "metadata": {
    "vscode": {
     "languageId": "qsharp"
    }
   },
   "outputs": [],
   "source": [
    "%%qsharp\n",
    "operation SixQGrovers(target: Qubit[], pattern: Bool[], repeats: Int) : Unit {\n",
    "    for i in 0..repeats {\n",
    "        SixQGroverIteration(target, pattern); \n",
    "    }\n",
    "}"
   ]
  },
  {
   "cell_type": "markdown",
   "id": "a63a1b31",
   "metadata": {},
   "source": [
    "<a id='Task5_cell'></a>\n",
    "## Task 5: Comparison of classical and quantum search\n",
    "\n",
    "Now that we have a function that performs a single iteration of Grover's algorithm, let's work towards comparing the performance of quantum search against classical search. To do so, you will need to write:\n",
    "- A function **RandomiseSix**, which should use Hadamard gates on all 6 qubits in a 6 qubit input to create a completely randomised quantum superposition, in order to allow a fair test of the algorithm\n",
    "- Plotting code for comparing the performance of classical and quantum search algorithms\n"
   ]
  },
  {
   "cell_type": "markdown",
   "id": "fa3f5653",
   "metadata": {},
   "source": [
    "<a id='Task5a_cell'></a>\n",
    "In the cell below, write your code for **RandomiseSix**.\n",
    "\n",
    "*Hint: Remember to use indices to indicate which qubit in the array you are referring to.*"
   ]
  },
  {
   "cell_type": "code",
   "execution_count": null,
   "id": "d72492f7",
   "metadata": {
    "vscode": {
     "languageId": "qsharp"
    }
   },
   "outputs": [],
   "source": [
    "%%qsharp\n",
    "operation RandomiseSix(target: Qubit[]) : Unit {\n",
    "\n",
    "    for X in 0..5 {\n",
    "      H(target[X]);        \n",
    "    } \n",
    "    \n",
    "}"
   ]
  },
  {
   "cell_type": "markdown",
   "id": "976b583c",
   "metadata": {},
   "source": [
    "The cell below contains a function which will combine your RandomiseSix with your SixQGrovers. This will allow you to simulate the action of Grover's algorithm for searching. Assuming you have checked that your functions above work correctly, this should not need any adjustments in order to run. "
   ]
  },
  {
   "cell_type": "code",
   "execution_count": 31,
   "id": "59612aa7",
   "metadata": {
    "vscode": {
     "languageId": "qsharp"
    }
   },
   "outputs": [],
   "source": [
    "%%qsharp\n",
    "operation SixGroverRun(repeats: Int, pattern: Bool[]) : Unit {\n",
    "    use q = Qubit[6];\n",
    "    RandomiseSix(q);\n",
    "    SixQGrovers(q, pattern, repeats);\n",
    "DumpMachine();\n",
    "ResetAll(q);        \n",
    "}"
   ]
  },
  {
   "cell_type": "markdown",
   "id": "25046121",
   "metadata": {},
   "source": [
    "In the cell below:\n",
    "- run a single iteration (eg. repeats = 1) of SixGroverRun for any 6 qubit Boolean pattern you choose - this will be fed into the selector. \n",
    "- Make note of the probability of measuring the state you have set the selector for.\n",
    "\n",
    "Repeat the above, increasing the number of repeats from 1 to 20 in steps of 1, recording the probability of measuring the state you have selected at each point.\n",
    "\n",
    "*Note: You may notice that the probability changes in an unexpected manner after 6 repeats - this is not an error!*"
   ]
  },
  {
   "cell_type": "code",
   "execution_count": null,
   "id": "033b0466",
   "metadata": {
    "vscode": {
     "languageId": "qsharp"
    }
   },
   "outputs": [],
   "source": [
    "%%qsharp\n",
    "\n",
    "// Example: Call SixGroverRun with 2 repeats and pattern 101010:\n",
    "SixGroverRun(2, [true,false,true,false,true,false])\n"
   ]
  },
  {
   "cell_type": "markdown",
   "id": "6383f321",
   "metadata": {},
   "source": [
    "<a id='Task5Plot_cell'></a>\n",
    "Now for the comparison between classical and quantum search. Six qubits are capable of representing, at most, 64 ($2^{6}$) different objects simultaneously. For a fair comparison, we need to consider how many attempts it would take a classical computer to determine whether a particular item appears on a list. For a list with $N$ items, the probability $P$ of finding a particular item within $t$ attempts is:\n",
    "\n",
    "$$P = 1 - (1 - \\frac{1}{N})^t$$\n",
    "\n",
    "In the cell below, write code which:\n",
    "- builds an array `P_quant` out of the probability values you recorded above when running Grover's algorithm\n",
    "- creates a linspace `t_quant` with 20 values, starting at 1 and ending at 20\n",
    "- creates a linspace `t_class` with 250 values, starting at 1 and ending at 250\n",
    "- calculate the classical probability `P_class` at each value of `t_class`, assuming $N = 64$ and using the equation above\n",
    "- Make a figure which shows `P_class` plotted against `t_class`, and `P_quant` plotted against `t_quant` with appropriate axis labels, legend labels and title\n",
    "\n",
    "\n",
    "Copy the image of the figure into your Assignment 1 document (by right-clicking on it and choosing \"copy image as\" or \"save image as\", and answer the questions in the Assignment 1 pdf which are about this plot"
   ]
  },
  {
   "cell_type": "code",
   "execution_count": null,
   "id": "7159d8ec",
   "metadata": {},
   "outputs": [],
   "source": [
    "P_quant = [X, Y, Z, A, B, C, D]\n",
    "t_quant = np.linspace(A, B, C) \n",
    "\n",
    "t_class = np.linspace()\n",
    "P_class = (1 - (MATH)**t_class)\n",
    "\n",
    "\n",
    "# Plotting - Line/points\n",
    "\n"
   ]
  },
  {
   "cell_type": "markdown",
   "id": "0e435dda",
   "metadata": {},
   "source": [
    "## Testing\n",
    "<a id='Testing'></a>\n",
    "This section contains scripts that will allow you to check whether functions you have written above are working as intended. Note that this is not a guarantee - you should still check the code you write to be sure that it is applying logic gates in the sequence that you intend - but most common errors will be caught with these checks."
   ]
  },
  {
   "cell_type": "markdown",
   "id": "e4df8abd",
   "metadata": {},
   "source": [
    "<a id='Task2T_cell'></a>\n",
    "### Task 2 Testing"
   ]
  },
  {
   "cell_type": "markdown",
   "id": "71513853",
   "metadata": {},
   "source": [
    "The cells below will allow you to test that **GateSwitch** is working as intended. You must first run the cell which builds the function **TestGateSwitch**, and then the simulation operation beneath it.\n",
    "\n",
    "If your **GateSwitch** is working correctly, then running the function **TestGateSwitch** will produce a ``DumpMachine`` result where there is a 25% probability of measuring the states $|110101\\rangle$, $|110001\\rangle$, $|100101\\rangle$, and $|100001\\rangle$. \n",
    "\n"
   ]
  },
  {
   "cell_type": "code",
   "execution_count": null,
   "id": "518055ca",
   "metadata": {
    "vscode": {
     "languageId": "qsharp"
    }
   },
   "outputs": [],
   "source": [
    "%%qsharp\n",
    "operation TestGateSwitch() : Unit {\n",
    "use q = Qubit[6];\n",
    "    H(q[1]);\n",
    "    H(q[3]);\n",
    "let testpattern = [true, true,false,true,false,true];   \n",
    "GateSwitch(q,testpattern);        \n",
    "DumpMachine();    \n",
    "ResetAll(q);     \n",
    "}"
   ]
  },
  {
   "cell_type": "code",
   "execution_count": null,
   "id": "4fcb7c38",
   "metadata": {},
   "outputs": [],
   "source": [
    "TestGateSwitch.simulate()"
   ]
  },
  {
   "cell_type": "markdown",
   "id": "704d9729",
   "metadata": {},
   "source": [
    "The cells below will allow you to test that **SelectorSix** is working as intended. You must first run the cell which builds the function **TestSelectorSix**, and then the simulation operation beneath it.\n",
    "\n",
    "If your **SelectorSix** is working correctly, then running the function **TestSelectorSix** will produce a `DumpMachine` result where every state has a 1.5625% probability of being measured, and the state $|001010\\rangle$ has a phase of 3.1416."
   ]
  },
  {
   "cell_type": "code",
   "execution_count": null,
   "id": "769609e3",
   "metadata": {
    "vscode": {
     "languageId": "qsharp"
    }
   },
   "outputs": [],
   "source": [
    "%%qsharp\n",
    "operation TestSelectorSix() : Unit {\n",
    "  use q = Qubit[6];  \n",
    "    H(q[0]);\n",
    "    H(q[1]);\n",
    "    H(q[2]);\n",
    "    H(q[3]);\n",
    "    H(q[4]);\n",
    "    H(q[5]);\n",
    "let testpattern = [true,true,false,true,false,true];    \n",
    "SelectorSix(q,testpattern);    \n",
    "DumpMachine();    \n",
    "ResetAll(q);    \n",
    "}"
   ]
  },
  {
   "cell_type": "code",
   "execution_count": null,
   "id": "ead24e4c",
   "metadata": {},
   "outputs": [],
   "source": [
    "\n",
    "qsharp.eval(f\"TestSelectorSix()\")"
   ]
  },
  {
   "cell_type": "markdown",
   "id": "254976f6",
   "metadata": {},
   "source": [
    "<a id='Task3T_cell'></a>\n",
    "### Task 3 Testing"
   ]
  },
  {
   "cell_type": "markdown",
   "id": "1a730259",
   "metadata": {},
   "source": [
    "The cells below will allow you to test that **AmplifySix** is working as intended. You must first run the cell which builds the function **TestAmplifySix**, and then the simulation operation beneath it.\n",
    "\n",
    "If your **AmplifySix** is working correctly, then running the function **TestAmplifySix** will produce a `DumpMachine` result where states $|000100\\rangle$ and $|100100\\rangle$ have a 43.9453% chance of being measured, and a phase of 0. All other states will have a 0.1953% chance of being measured, and a phase of 3.1416.\n"
   ]
  },
  {
   "cell_type": "code",
   "execution_count": null,
   "id": "d75f3cf0",
   "metadata": {
    "vscode": {
     "languageId": "qsharp"
    }
   },
   "outputs": [],
   "source": [
    "%%qsharp\n",
    "operation TestAmplifySix() : Unit {\n",
    "use q = Qubit[6];\n",
    "H(q[0]);\n",
    "X(q[3]);    \n",
    "Z(q[5]);\n",
    "AmplifySix(q);    \n",
    "DumpMachine();    \n",
    "ResetAll(q);          \n",
    "}"
   ]
  },
  {
   "cell_type": "code",
   "execution_count": null,
   "id": "fa0649d2",
   "metadata": {},
   "outputs": [],
   "source": [
    "TestAmplifySix.simulate()"
   ]
  },
  {
   "cell_type": "markdown",
   "id": "76638356",
   "metadata": {},
   "source": [
    "<a id='Task4T_cell'></a>\n",
    "### Task 4 Testing"
   ]
  },
  {
   "cell_type": "markdown",
   "id": "48755aa2",
   "metadata": {},
   "source": [
    "The cells below will allow you to test that **SixQGroverIteration** is working as intended. You must first run the cell which builds the function **TestSixQGroverIteration**, and then the simulation operation beneath it.\n",
    "\n",
    "If your **SixQGroverIteration** is working correctly, then running the function **TestSixQGroverIteration** will produce a `DumpMachine` result where states $|001000\\rangle$ and $|011000\\rangle$ have a 43.9453% chance of being measured, and a phase of 0. All other states will have a 0.1953% chance of being measured, and a phase of 3.1416."
   ]
  },
  {
   "cell_type": "code",
   "execution_count": null,
   "id": "10d53412",
   "metadata": {
    "vscode": {
     "languageId": "qsharp"
    }
   },
   "outputs": [],
   "source": [
    "%%qsharp\n",
    "operation TestSixQGroverIteration() : Unit {\n",
    " use q = Qubit[6]; \n",
    "  let testpattern = [true,true,false,true,false,true];   \n",
    "H(q[1]);\n",
    "X(q[2]);    \n",
    "Z(q[0]);    \n",
    "SixQGroverIteration(q,testpattern);    \n",
    "DumpMachine();\n",
    "ResetAll(q);\n",
    "    \n",
    "    \n",
    "}"
   ]
  },
  {
   "cell_type": "code",
   "execution_count": null,
   "id": "e6f99f02",
   "metadata": {},
   "outputs": [],
   "source": [
    "#TestSixQGroverIteration.simulate()\n",
    "\n",
    "qsharp.eval(\"TestSixQGroverIteration\")\n"
   ]
  },
  {
   "cell_type": "markdown",
   "id": "404de463",
   "metadata": {},
   "source": [
    "<a id='Task5T_cell'></a>\n",
    "### Task 5 Testing"
   ]
  },
  {
   "cell_type": "code",
   "execution_count": null,
   "id": "1cf2d956",
   "metadata": {
    "vscode": {
     "languageId": "qsharp"
    }
   },
   "outputs": [],
   "source": [
    "%%qsharp\n",
    "operation TestRandomiseSix() : Unit {\n",
    "use q = Qubit[6];\n",
    "RandomiseSix(q);\n",
    "DumpMachine();\n",
    "ResetAll(q);\n",
    "}"
   ]
  },
  {
   "cell_type": "code",
   "execution_count": null,
   "id": "dd712562",
   "metadata": {},
   "outputs": [],
   "source": [
    "TestRandomiseSix.simulate()"
   ]
  }
 ],
 "metadata": {
  "kernelspec": {
   "display_name": "Python 3 (ipykernel)",
   "language": "python",
   "name": "python3"
  },
  "language_info": {
   "codemirror_mode": {
    "name": "ipython",
    "version": 3
   },
   "file_extension": ".py",
   "mimetype": "text/x-python",
   "name": "python",
   "nbconvert_exporter": "python",
   "pygments_lexer": "ipython3",
   "version": "3.11.9"
  }
 },
 "nbformat": 4,
 "nbformat_minor": 5
}
