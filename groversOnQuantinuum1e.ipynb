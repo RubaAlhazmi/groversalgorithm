{
 "cells": [
  {
   "cell_type": "code",
   "execution_count": null,
   "id": "22a2a296",
   "metadata": {},
   "outputs": [],
   "source": [
    "#deleted the subscription id for privacy since this repositry is public \n",
    "subscription_id = ''\n",
    "resource_group = 'AzureQuantum'\n",
    "workspace_name = 'Ruba'\n",
    "location = 'Japan West'"
   ]
  },
  {
   "cell_type": "code",
   "execution_count": 2,
   "id": "a5284d63",
   "metadata": {},
   "outputs": [
    {
     "data": {
      "application/javascript": "// Copyright (c) Microsoft Corporation.\n// Licensed under the MIT License.\n\n// This file provides CodeMirror syntax highlighting for Q# magic cells\n// in classic Jupyter Notebooks. It does nothing in other (Jupyter Notebook 7,\n// VS Code, Azure Notebooks, etc.) environments.\n\n// Detect the prerequisites and do nothing if they don't exist.\nif (window.require && window.CodeMirror && window.Jupyter) {\n  // The simple mode plugin for CodeMirror is not loaded by default, so require it.\n  window.require([\"codemirror/addon/mode/simple\"], function defineMode() {\n    let rules = [\n      {\n        token: \"comment\",\n        regex: /(\\/\\/).*/,\n        beginWord: false,\n      },\n      {\n        token: \"string\",\n        regex: String.raw`^\\\"(?:[^\\\"\\\\]|\\\\[\\s\\S])*(?:\\\"|$)`,\n        beginWord: false,\n      },\n      {\n        token: \"keyword\",\n        regex: String.raw`(namespace|open|as|operation|function|body|adjoint|newtype|controlled|internal)\\b`,\n        beginWord: true,\n      },\n      {\n        token: \"keyword\",\n        regex: String.raw`(if|elif|else|repeat|until|fixup|for|in|return|fail|within|apply)\\b`,\n        beginWord: true,\n      },\n      {\n        token: \"keyword\",\n        regex: String.raw`(Adjoint|Controlled|Adj|Ctl|is|self|auto|distribute|invert|intrinsic)\\b`,\n        beginWord: true,\n      },\n      {\n        token: \"keyword\",\n        regex: String.raw`(let|set|use|borrow|mutable)\\b`,\n        beginWord: true,\n      },\n      {\n        token: \"operatorKeyword\",\n        regex: String.raw`(not|and|or)\\b|(w/)`,\n        beginWord: true,\n      },\n      {\n        token: \"operatorKeyword\",\n        regex: String.raw`(=)|(!)|(<)|(>)|(\\+)|(-)|(\\*)|(/)|(\\^)|(%)|(\\|)|(&&&)|(~~~)|(\\.\\.\\.)|(\\.\\.)|(\\?)`,\n        beginWord: false,\n      },\n      {\n        token: \"meta\",\n        regex: String.raw`(Int|BigInt|Double|Bool|Qubit|Pauli|Result|Range|String|Unit)\\b`,\n        beginWord: true,\n      },\n      {\n        token: \"atom\",\n        regex: String.raw`(true|false|Pauli(I|X|Y|Z)|One|Zero)\\b`,\n        beginWord: true,\n      },\n    ];\n    let simpleRules = [];\n    for (let rule of rules) {\n      simpleRules.push({\n        token: rule.token,\n        regex: new RegExp(rule.regex, \"g\"),\n        sol: rule.beginWord,\n      });\n      if (rule.beginWord) {\n        // Need an additional rule due to the fact that CodeMirror simple mode doesn't work with ^ token\n        simpleRules.push({\n          token: rule.token,\n          regex: new RegExp(String.raw`\\W` + rule.regex, \"g\"),\n          sol: false,\n        });\n      }\n    }\n\n    // Register the mode defined above with CodeMirror\n    window.CodeMirror.defineSimpleMode(\"qsharp\", { start: simpleRules });\n    window.CodeMirror.defineMIME(\"text/x-qsharp\", \"qsharp\");\n\n    // Tell Jupyter to associate %%qsharp magic cells with the qsharp mode\n    window.Jupyter.CodeCell.options_default.highlight_modes[\"qsharp\"] = {\n      reg: [/^%%qsharp/],\n    };\n\n    // Force re-highlighting of all cells the first time this code runs\n    for (const cell of window.Jupyter.notebook.get_cells()) {\n      cell.auto_highlight();\n    }\n  });\n}\n",
      "text/plain": []
     },
     "metadata": {},
     "output_type": "display_data"
    },
    {
     "data": {
      "application/x.qsharp-config": "{\"targetProfile\":\"base\",\"languageFeatures\":null,\"manifest\":null}",
      "text/plain": [
       "Q# initialized with configuration: {'targetProfile': 'base', 'languageFeatures': None, 'manifest': None}"
      ]
     },
     "execution_count": 2,
     "metadata": {},
     "output_type": "execute_result"
    }
   ],
   "source": [
    "import qsharp\n",
    "\n",
    "qsharp.init(target_profile=qsharp.TargetProfile.Base)"
   ]
  },
  {
   "cell_type": "code",
   "execution_count": 3,
   "id": "5c3d99f8",
   "metadata": {},
   "outputs": [],
   "source": [
    "import qsharp\n",
    "import numpy as np\n",
    "import matplotlib.pyplot as plt"
   ]
  },
  {
   "cell_type": "code",
   "execution_count": 4,
   "id": "3217fbaf",
   "metadata": {
    "vscode": {
     "languageId": "qsharp"
    }
   },
   "outputs": [],
   "source": [
    "%%qsharp\n",
    "open Microsoft.Quantum.Diagnostics;"
   ]
  },
  {
   "cell_type": "code",
   "execution_count": 5,
   "id": "b37eb729",
   "metadata": {},
   "outputs": [],
   "source": [
    "%config dump.basisStateLabelingConvention=\"BitString\" \n",
    "%config dump.phaseDisplayStyle=\"NumberOnly\""
   ]
  },
  {
   "cell_type": "code",
   "execution_count": 6,
   "id": "340e3769",
   "metadata": {
    "vscode": {
     "languageId": "qsharp"
    }
   },
   "outputs": [],
   "source": [
    "%%qsharp\n",
    "operation RandomiseSix(target: Qubit[]) : Unit {\n",
    "  ApplyToEach(H, target);    \n",
    "}"
   ]
  },
  {
   "cell_type": "code",
   "execution_count": 7,
   "id": "75aaf72a",
   "metadata": {
    "vscode": {
     "languageId": "qsharp"
    }
   },
   "outputs": [],
   "source": [
    "%%qsharp\n",
    "operation GateSwitch(target: Qubit[], pattern: Bool[]) : Unit {\n",
    "    for i in 0..5 {\n",
    "        if pattern[i] {\n",
    "            X(target[i]); \n",
    "        }\n",
    "    }     \n",
    "}"
   ]
  },
  {
   "cell_type": "code",
   "execution_count": 8,
   "id": "1df183b7",
   "metadata": {
    "vscode": {
     "languageId": "qsharp"
    }
   },
   "outputs": [],
   "source": [
    "%%qsharp\n",
    "operation SelectorSix(target: Qubit[], pattern: Bool[]) : Unit {\n",
    "    GateSwitch(target, pattern); \n",
    "    Controlled Z(target[0..4],target[5]); \n",
    "    GateSwitch(target, pattern); \n",
    "}"
   ]
  },
  {
   "cell_type": "code",
   "execution_count": 9,
   "id": "3f0b6be1",
   "metadata": {
    "vscode": {
     "languageId": "qsharp"
    }
   },
   "outputs": [],
   "source": [
    "%%qsharp\n",
    "operation AmplifySix(target: Qubit[]) : Unit {\n",
    "    ApplyToEach(H, target); \n",
    "    ApplyToEach(X, target); \n",
    "    Controlled Z(target[0..4],target[5]);\n",
    "    ApplyToEach(X, target); \n",
    "    ApplyToEach(H, target); \n",
    "}"
   ]
  },
  {
   "cell_type": "code",
   "execution_count": 10,
   "id": "75cc4647",
   "metadata": {
    "vscode": {
     "languageId": "qsharp"
    }
   },
   "outputs": [],
   "source": [
    "%%qsharp\n",
    "operation SixQGroverIteration(target: Qubit[], pattern: Bool[]) : Unit {\n",
    "    SelectorSix(target, pattern); \n",
    "    AmplifySix(target); \n",
    "}"
   ]
  },
  {
   "cell_type": "code",
   "execution_count": 11,
   "id": "8281d097",
   "metadata": {
    "vscode": {
     "languageId": "qsharp"
    }
   },
   "outputs": [],
   "source": [
    "%%qsharp\n",
    "operation SixQGrovers(target: Qubit[], pattern: Bool[], repeats: Int) : Unit {\n",
    "    for i in 1..repeats {\n",
    "        SixQGroverIteration(target, pattern); \n",
    "    }\n",
    "}"
   ]
  },
  {
   "cell_type": "code",
   "execution_count": 12,
   "id": "d72492f7",
   "metadata": {
    "vscode": {
     "languageId": "qsharp"
    }
   },
   "outputs": [],
   "source": [
    "%%qsharp\n",
    "operation RandomiseSix(target: Qubit[]) : Unit {\n",
    "  ApplyToEach(H, target);    \n",
    "}"
   ]
  },
  {
   "cell_type": "code",
   "execution_count": 13,
   "id": "59612aa7",
   "metadata": {
    "vscode": {
     "languageId": "qsharp"
    }
   },
   "outputs": [],
   "source": [
    "%%qsharp\n",
    "operation SixGroverRun(repeats: Int, pattern: Bool[]) : Result[] {\n",
    "    use q = Qubit[6];\n",
    "    RandomiseSix(q);\n",
    "    SixQGrovers(q, pattern, repeats);\n",
    "    return MResetEachZ(q);        \n",
    "}\n"
   ]
  },
  {
   "cell_type": "code",
   "execution_count": 14,
   "id": "033b0466",
   "metadata": {
    "vscode": {
     "languageId": "qsharp"
    }
   },
   "outputs": [
    {
     "data": {
      "text/plain": [
       "[Zero, One, Zero, One, Zero, One]"
      ]
     },
     "execution_count": 14,
     "metadata": {},
     "output_type": "execute_result"
    }
   ],
   "source": [
    "%%qsharp\n",
    "\n",
    "// Example: Call SixGroverRun with 2 repeats and pattern 101010:\n",
    "SixGroverRun(6, [true,false,true,false,true,false])\n"
   ]
  },
  {
   "cell_type": "code",
   "execution_count": 15,
   "id": "c5cb0c51",
   "metadata": {},
   "outputs": [],
   "source": [
    "import azure.quantum\n",
    "\n",
    "workspace = azure.quantum.Workspace(\n",
    "    subscription_id=subscription_id,\n",
    "    resource_group=resource_group,\n",
    "    name=workspace_name,\n",
    "    location=location,\n",
    ")\n",
    "\n",
    "operation = qsharp.compile(\"SixGroverRun(6, [true,false,true,false,true,false])\")\n",
    "\n",
    "target = workspace.get_targets(\"quantinuum.sim.h1-1e\")\n",
    "job = target.submit(operation, \"Grover's\", shots=20)"
   ]
  }
 ],
 "metadata": {
  "kernelspec": {
   "display_name": "mqit_kernel",
   "language": "python",
   "name": "mqit_kernel"
  },
  "language_info": {
   "codemirror_mode": {
    "name": "ipython",
    "version": 3
   },
   "file_extension": ".py",
   "mimetype": "text/x-python",
   "name": "python",
   "nbconvert_exporter": "python",
   "pygments_lexer": "ipython3",
   "version": "3.9.5"
  }
 },
 "nbformat": 4,
 "nbformat_minor": 5
}
